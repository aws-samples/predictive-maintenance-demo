{
 "cells": [
  {
   "cell_type": "markdown",
   "id": "4ecd97e3",
   "metadata": {},
   "source": [
    "# Predictive Maintenance Demonstrator\n",
    "### Developed by: Mustafa Aldemir & Ahmed Elsenousi"
   ]
  },
  {
   "cell_type": "markdown",
   "id": "abde78cf",
   "metadata": {},
   "source": [
    "This notebook demonstrates how you can train a model for Predictive Maintenance using a simple LSTM architecture.\n",
    "\n",
    "Note: The notebook uses a sample dataset provided in the repository. You should collect data from your Predictive Maintenance Demonstrator for an accurate prediction.\n",
    "\n",
    "<!-- ![title](images/predmaint1.jpg) -->"
   ]
  },
  {
   "cell_type": "markdown",
   "id": "062af7b2-757c-400e-94db-ef4c3cdd0079",
   "metadata": {},
   "source": [
    "- Greengrass,\n",
    "- IoT Core\n",
    "- \n",
    "\n",
    "<!-- ![title](images/architecture.png) -->\n",
    "<!-- TODO: Update the diagram of the demonstrator and add explanation about how it works -->"
   ]
  },
  {
   "cell_type": "code",
   "execution_count": null,
   "id": "df2b2950-d052-4d85-be98-12fc33c44074",
   "metadata": {},
   "outputs": [],
   "source": []
  },
  {
   "cell_type": "markdown",
   "id": "33405f4e-3a76-45ef-a148-7b4f8054e589",
   "metadata": {},
   "source": [
    "#### Improvement Areas:\n",
    "- Train in Sagemaker Training Job\n",
    "- Build a Sagemaker Pipeline\n",
    "- Automate deployment on Greengrass\n",
    "- Convert the model to TFLite"
   ]
  },
  {
   "cell_type": "code",
   "execution_count": null,
   "id": "91890821-246a-4519-89fe-2387f5478e52",
   "metadata": {},
   "outputs": [],
   "source": []
  },
  {
   "cell_type": "markdown",
   "id": "726487d9-5ae8-4936-bc74-5a61c6d30dfc",
   "metadata": {},
   "source": [
    "### Install required packages"
   ]
  },
  {
   "cell_type": "code",
   "execution_count": null,
   "id": "5dc7c133-5719-4fd1-95fa-8cc15f662fea",
   "metadata": {},
   "outputs": [],
   "source": [
    "!pip install numpy pandas matplotlib keras --quiet"
   ]
  },
  {
   "cell_type": "code",
   "execution_count": null,
   "id": "d54873ae-c79b-4513-a67d-46ed6803fd1c",
   "metadata": {},
   "outputs": [],
   "source": []
  },
  {
   "cell_type": "markdown",
   "id": "d6a74f71",
   "metadata": {},
   "source": [
    "### Import required packages"
   ]
  },
  {
   "cell_type": "code",
   "execution_count": null,
   "id": "ea2b4b0e",
   "metadata": {},
   "outputs": [],
   "source": [
    "import json\n",
    "import numpy as np\n",
    "import pandas as pd\n",
    "import matplotlib.pyplot as plt\n",
    "\n",
    "from IPython.display import display, HTML"
   ]
  },
  {
   "cell_type": "code",
   "execution_count": null,
   "id": "c0a95fcc",
   "metadata": {},
   "outputs": [],
   "source": [
    "from keras.models import Sequential\n",
    "from keras.layers import Dense\n",
    "from keras.layers import LSTM\n",
    "from keras.optimizers import Adam"
   ]
  },
  {
   "cell_type": "code",
   "execution_count": null,
   "id": "bee858d3",
   "metadata": {},
   "outputs": [],
   "source": []
  },
  {
   "cell_type": "markdown",
   "id": "3f720f45",
   "metadata": {},
   "source": [
    "### Some constant definitions"
   ]
  },
  {
   "cell_type": "code",
   "execution_count": null,
   "id": "51c6544d",
   "metadata": {},
   "outputs": [],
   "source": [
    "RAW_DATA_FILE = 'data/raw_data.csv'\n",
    "CLEANED_DATA_FILE = 'data/cleaned_data.csv'\n",
    "MODEL_FILE = 'model/lstm.h5'"
   ]
  },
  {
   "cell_type": "code",
   "execution_count": null,
   "id": "13a6c5b0",
   "metadata": {},
   "outputs": [],
   "source": [
    "# This is the ID of the Greengrass group in the sample dataset.\n",
    "#Replace it with your own Greengrass Group ID\n",
    "MY_GREENGRASS_GROUP_ID = \"22c680b6-96ab-4e1c-920e-9e1c96df9e31\""
   ]
  },
  {
   "cell_type": "code",
   "execution_count": null,
   "id": "303e14e4",
   "metadata": {},
   "outputs": [],
   "source": [
    "MAX_VIBRATION_FLAG = 1"
   ]
  },
  {
   "cell_type": "code",
   "execution_count": null,
   "id": "cda5c371",
   "metadata": {},
   "outputs": [],
   "source": [
    "TRAIN_TEST_SPLIT_RATIO = 0.80"
   ]
  },
  {
   "cell_type": "code",
   "execution_count": null,
   "id": "54e8d708",
   "metadata": {},
   "outputs": [],
   "source": []
  },
  {
   "cell_type": "markdown",
   "id": "9ba7609a",
   "metadata": {},
   "source": [
    "### Load the data"
   ]
  },
  {
   "cell_type": "code",
   "execution_count": null,
   "id": "c14a0278",
   "metadata": {},
   "outputs": [],
   "source": [
    "# load the dataset to a dataframe\n",
    "raw_data = pd.read_csv(RAW_DATA_FILE, sep='\\t', encoding='utf-8')"
   ]
  },
  {
   "cell_type": "code",
   "execution_count": null,
   "id": "015b5cac",
   "metadata": {},
   "outputs": [],
   "source": [
    "# shape of the dataframe\n",
    "print(f\"{raw_data.shape[0]} rows and {raw_data.shape[1]} columns\")\n",
    "\n",
    "# columns\n",
    "print(f\"Columns: {raw_data.columns.values.tolist()}\")"
   ]
  },
  {
   "cell_type": "code",
   "execution_count": null,
   "id": "e4ee23e5",
   "metadata": {
    "scrolled": true
   },
   "outputs": [],
   "source": [
    "# display the first rows of the dataframe\n",
    "raw_data.head()"
   ]
  },
  {
   "cell_type": "code",
   "execution_count": null,
   "id": "33bfd0c3",
   "metadata": {},
   "outputs": [],
   "source": []
  },
  {
   "cell_type": "markdown",
   "id": "d1759601",
   "metadata": {},
   "source": [
    "### Format the data"
   ]
  },
  {
   "cell_type": "code",
   "execution_count": null,
   "id": "31a3a211",
   "metadata": {},
   "outputs": [],
   "source": [
    "raw_data.dropna(subset=['ts'], inplace=True)"
   ]
  },
  {
   "cell_type": "code",
   "execution_count": null,
   "id": "54dab507",
   "metadata": {},
   "outputs": [],
   "source": [
    "raw_data = raw_data.sort_values(by=['ts'])"
   ]
  },
  {
   "cell_type": "code",
   "execution_count": null,
   "id": "9890c2b6",
   "metadata": {},
   "outputs": [],
   "source": [
    "# raw_data['ts'] = pd.to_datetime(raw_data['ts'], unit='s')"
   ]
  },
  {
   "cell_type": "code",
   "execution_count": null,
   "id": "02a6faeb",
   "metadata": {},
   "outputs": [],
   "source": []
  },
  {
   "cell_type": "markdown",
   "id": "15fdfe63",
   "metadata": {},
   "source": [
    "### Get a specific Greengrass Group"
   ]
  },
  {
   "cell_type": "code",
   "execution_count": null,
   "id": "e301d598",
   "metadata": {
    "scrolled": true
   },
   "outputs": [],
   "source": [
    "# Greengrass groups in the dataset\n",
    "print(f\"Greengrass groups: {raw_data['greengrass_group_id'].unique().tolist()}\")"
   ]
  },
  {
   "cell_type": "code",
   "execution_count": null,
   "id": "fee5af76",
   "metadata": {},
   "outputs": [],
   "source": [
    "raw_data = raw_data[raw_data['greengrass_group_id'] == MY_GREENGRASS_GROUP_ID]"
   ]
  },
  {
   "cell_type": "code",
   "execution_count": null,
   "id": "1c9470f6",
   "metadata": {},
   "outputs": [],
   "source": []
  },
  {
   "cell_type": "markdown",
   "id": "35252176",
   "metadata": {},
   "source": [
    "### Drop unnecessary columns"
   ]
  },
  {
   "cell_type": "code",
   "execution_count": null,
   "id": "d23c44d4",
   "metadata": {},
   "outputs": [],
   "source": [
    "cleaned_data = raw_data.drop(['__dt','greengrass_group_id'], axis = 1)"
   ]
  },
  {
   "cell_type": "code",
   "execution_count": null,
   "id": "2d8dc26f",
   "metadata": {},
   "outputs": [],
   "source": []
  },
  {
   "cell_type": "markdown",
   "id": "033b0869",
   "metadata": {},
   "source": [
    "### Calculate the remaining time for each row"
   ]
  },
  {
   "cell_type": "code",
   "execution_count": null,
   "id": "369308d8",
   "metadata": {},
   "outputs": [],
   "source": [
    "# https://stackoverflow.com/questions/62819482/efficient-way-of-row-based-calculation-in-pandas/62820025#62820025\n",
    "cleaned_data['RUL'] = cleaned_data['ts'].where(cleaned_data['max_vibration'].eq(MAX_VIBRATION_FLAG)).bfill()- cleaned_data['ts']"
   ]
  },
  {
   "cell_type": "code",
   "execution_count": null,
   "id": "572fcc90",
   "metadata": {},
   "outputs": [],
   "source": [
    "# the last rows have NaN diff\n",
    "cleaned_data = cleaned_data[cleaned_data['RUL'].notna()]"
   ]
  },
  {
   "cell_type": "code",
   "execution_count": null,
   "id": "b1f63078",
   "metadata": {},
   "outputs": [],
   "source": [
    "cleaned_data.head()"
   ]
  },
  {
   "cell_type": "code",
   "execution_count": null,
   "id": "89f25e33",
   "metadata": {},
   "outputs": [],
   "source": []
  },
  {
   "cell_type": "markdown",
   "id": "0d4413d5",
   "metadata": {},
   "source": [
    "### Investigate any anomalies"
   ]
  },
  {
   "cell_type": "code",
   "execution_count": null,
   "id": "d1b739f8",
   "metadata": {},
   "outputs": [],
   "source": [
    "cleaned_data.hist(column='RUL')"
   ]
  },
  {
   "cell_type": "code",
   "execution_count": null,
   "id": "919974f4",
   "metadata": {},
   "outputs": [],
   "source": [
    "# cleaned_data = cleaned_data.drop(cleaned_data[cleaned_data['RUL']>1000].index)"
   ]
  },
  {
   "cell_type": "code",
   "execution_count": null,
   "id": "a06d8f62",
   "metadata": {
    "scrolled": true
   },
   "outputs": [],
   "source": [
    "# plot all columns\n",
    "values = cleaned_data.values\n",
    "\n",
    "plt.figure(figsize=(15,60))\n",
    "i = 1\n",
    "for group in range(cleaned_data.shape[1]):\n",
    "    plt.subplot(cleaned_data.shape[1], 1, i)\n",
    "    plt.plot(values[:, group])\n",
    "    plt.title(cleaned_data.columns[group], y=0.5, loc='right')\n",
    "    i += 1\n",
    "plt.show()"
   ]
  },
  {
   "cell_type": "markdown",
   "id": "53a3135e",
   "metadata": {},
   "source": [
    "### Save in a file"
   ]
  },
  {
   "cell_type": "code",
   "execution_count": null,
   "id": "fa2883cb",
   "metadata": {},
   "outputs": [],
   "source": [
    "cleaned_data.to_csv(CLEANED_DATA_FILE, sep='\\t', index=False, encoding='utf-8')"
   ]
  },
  {
   "cell_type": "code",
   "execution_count": null,
   "id": "5ae24fc9",
   "metadata": {
    "scrolled": true
   },
   "outputs": [],
   "source": [
    "cleaned_data.shape"
   ]
  },
  {
   "cell_type": "code",
   "execution_count": null,
   "id": "fce4df96",
   "metadata": {},
   "outputs": [],
   "source": []
  },
  {
   "cell_type": "code",
   "execution_count": null,
   "id": "ca3b7bcb",
   "metadata": {},
   "outputs": [],
   "source": []
  },
  {
   "cell_type": "markdown",
   "id": "637b6518",
   "metadata": {},
   "source": [
    "### Format the data for training"
   ]
  },
  {
   "cell_type": "code",
   "execution_count": null,
   "id": "c7bf2e4a",
   "metadata": {},
   "outputs": [],
   "source": [
    "num_steps = 4\n",
    "# use only these features\n",
    "used_features = ['zrmsvelocity', 'temperature', 'xrmsvelocity', 'xpeakacceleration',\n",
    "       'zpeakacceleration', 'zrmsacceleration', 'xrmsacceleration',\n",
    "       'zkurtosis', 'xkurtosis', 'zcrestfactor', 'xcrestfactor',\n",
    "       'zpeakvelocity', 'xpeakvelocity', 'zhfrmsacceleration',\n",
    "       'xhfrmsacceleration']\n",
    "num_features = len(used_features)"
   ]
  },
  {
   "cell_type": "code",
   "execution_count": null,
   "id": "693b7006",
   "metadata": {},
   "outputs": [],
   "source": [
    "x = np.array(cleaned_data.iloc[:,0:num_features])"
   ]
  },
  {
   "cell_type": "code",
   "execution_count": null,
   "id": "2d4562cd",
   "metadata": {},
   "outputs": [],
   "source": [
    "used_data_len = len(x) - len(x) % num_steps\n",
    "x = x[0:used_data_len]"
   ]
  },
  {
   "cell_type": "code",
   "execution_count": null,
   "id": "5dbcca26",
   "metadata": {},
   "outputs": [],
   "source": [
    "x = np.array(x)\n",
    "x_shaped = np.reshape(x[0:used_data_len], newshape=(-1, num_steps, num_features))\n",
    "x_shaped.shape"
   ]
  },
  {
   "cell_type": "code",
   "execution_count": null,
   "id": "e0fd7ea5",
   "metadata": {},
   "outputs": [],
   "source": [
    "y_shaped = np.array(cleaned_data['RUL'][::num_steps])\n",
    "y_shaped.shape"
   ]
  },
  {
   "cell_type": "code",
   "execution_count": null,
   "id": "3d1bfee7",
   "metadata": {},
   "outputs": [],
   "source": []
  },
  {
   "cell_type": "markdown",
   "id": "2d3acf0d",
   "metadata": {},
   "source": [
    "### Split train-test data"
   ]
  },
  {
   "cell_type": "code",
   "execution_count": null,
   "id": "95d41c49",
   "metadata": {},
   "outputs": [],
   "source": [
    "TRAIN_TEST_SPLIT_RATIO = 0.80"
   ]
  },
  {
   "cell_type": "code",
   "execution_count": null,
   "id": "e7554d65",
   "metadata": {},
   "outputs": [],
   "source": [
    "train_ind = int(TRAIN_TEST_SPLIT_RATIO * x_shaped.shape[0])\n",
    "\n",
    "x_train = x_shaped[:train_ind]\n",
    "y_train = y_shaped[:train_ind]\n",
    "x_test = x_shaped[train_ind:]\n",
    "y_test = y_shaped[train_ind:]\n",
    "\n",
    "print(f\"Training features shape: {x_train.shape}\")\n",
    "print(f\"Training labels shape: {y_train.shape}\")\n",
    "print(f\"Test features shape: {x_test.shape}\")\n",
    "print(f\"Test labels shape: {y_test.shape}\")"
   ]
  },
  {
   "cell_type": "code",
   "execution_count": null,
   "id": "eab4c8b7",
   "metadata": {},
   "outputs": [],
   "source": []
  },
  {
   "cell_type": "markdown",
   "id": "538cb4da",
   "metadata": {},
   "source": [
    "### Design the model"
   ]
  },
  {
   "cell_type": "code",
   "execution_count": null,
   "id": "34324413",
   "metadata": {},
   "outputs": [],
   "source": [
    "# Option 1: The simplest LSTM model\n",
    "model = Sequential()\n",
    "model.add(LSTM(50, activation='relu', input_shape=(num_steps, num_features)))\n",
    "model.add(Dense(1))\n",
    "model.compile(optimizer='adam', loss='mse')"
   ]
  },
  {
   "cell_type": "code",
   "execution_count": null,
   "id": "596a88af-69a9-4199-a469-a44c65512483",
   "metadata": {},
   "outputs": [],
   "source": []
  },
  {
   "cell_type": "code",
   "execution_count": null,
   "id": "0e049341-6d03-4db5-8e3e-d37ad9e75754",
   "metadata": {},
   "outputs": [],
   "source": [
    "# Option 2: A slightly more complex LSTM model\n",
    "model = Sequential()\n",
    "model.add(LSTM(100, activation='tanh', input_shape=(num_steps, num_features), \n",
    "               return_sequences=False))\n",
    "model.add(Dense(units=50, activation='relu'))\n",
    "model.add(Dense(units=1, activation='linear'))\n",
    "adam = Adam(lr=0.001)\n",
    "model.compile(optimizer=adam, loss='mse')"
   ]
  },
  {
   "cell_type": "code",
   "execution_count": null,
   "id": "403575d2",
   "metadata": {},
   "outputs": [],
   "source": []
  },
  {
   "cell_type": "markdown",
   "id": "cefdde43",
   "metadata": {},
   "source": [
    "### Train the model"
   ]
  },
  {
   "cell_type": "code",
   "execution_count": null,
   "id": "0eeb5c81",
   "metadata": {
    "scrolled": true
   },
   "outputs": [],
   "source": [
    "history = model.fit(x_train, y_train, epochs=1000, validation_split=0, verbose=1)"
   ]
  },
  {
   "cell_type": "code",
   "execution_count": null,
   "id": "a5438e94",
   "metadata": {},
   "outputs": [],
   "source": []
  },
  {
   "cell_type": "markdown",
   "id": "cb3fbabd",
   "metadata": {},
   "source": [
    "### Make predictions and plot"
   ]
  },
  {
   "cell_type": "code",
   "execution_count": null,
   "id": "052edfd3",
   "metadata": {},
   "outputs": [],
   "source": [
    "# Make a prediction for a sample point\n",
    "model.predict(x_train[55].reshape(-1, num_steps, num_features))"
   ]
  },
  {
   "cell_type": "code",
   "execution_count": null,
   "id": "09640e7d-6d29-4a70-80d7-1dc5dc70e9cb",
   "metadata": {},
   "outputs": [],
   "source": []
  },
  {
   "cell_type": "code",
   "execution_count": null,
   "id": "69b19c93",
   "metadata": {},
   "outputs": [],
   "source": [
    "# Make predictions for the full dataset\n",
    "x_shaped_prediction = model.predict(x_shaped)"
   ]
  },
  {
   "cell_type": "code",
   "execution_count": null,
   "id": "0332704f",
   "metadata": {},
   "outputs": [],
   "source": [
    "plt.style.use('ggplot')\n",
    "plt.figure(figsize=(20, 7))\n",
    "plt.plot(y_shaped, label=\"True value\")\n",
    "plt.plot(x_shaped_prediction.ravel(), label=\"Predicted value\")\n",
    "plt.ylabel(\"Remaining Useful Life (RUL) in seconds\")\n",
    "plt.xlabel(\"t\")\n",
    "plt.legend()"
   ]
  },
  {
   "cell_type": "code",
   "execution_count": null,
   "id": "499a396d",
   "metadata": {},
   "outputs": [],
   "source": []
  },
  {
   "cell_type": "markdown",
   "id": "939d1f58",
   "metadata": {},
   "source": [
    "### Store the model artifacts"
   ]
  },
  {
   "cell_type": "code",
   "execution_count": null,
   "id": "26e5b147",
   "metadata": {},
   "outputs": [],
   "source": [
    "model.save(MODEL_FILE)"
   ]
  },
  {
   "cell_type": "code",
   "execution_count": null,
   "id": "5fd8fa17-e803-40f6-bf58-f3d68b8e58e0",
   "metadata": {},
   "outputs": [],
   "source": []
  },
  {
   "cell_type": "markdown",
   "id": "2a7e1cad-3ed7-4ea1-be71-4989a3c3537d",
   "metadata": {},
   "source": [
    "### Next Steps"
   ]
  },
  {
   "cell_type": "markdown",
   "id": "c29a6be0-e585-4912-9307-9e4dc0b18784",
   "metadata": {},
   "source": [
    "Now the trained model is saved as file MODEL_FILE. You can deploy it on Greengrass device to make predictions at the edge.\n",
    "\n",
    "\n",
    "#TODO: explain how to deploy the model on Greengrass device"
   ]
  }
 ],
 "metadata": {
  "kernelspec": {
   "display_name": "Python 3 (ipykernel)",
   "language": "python",
   "name": "python3"
  },
  "language_info": {
   "codemirror_mode": {
    "name": "ipython",
    "version": 3
   },
   "file_extension": ".py",
   "mimetype": "text/x-python",
   "name": "python",
   "nbconvert_exporter": "python",
   "pygments_lexer": "ipython3",
   "version": "3.10.13"
  }
 },
 "nbformat": 4,
 "nbformat_minor": 5
}
